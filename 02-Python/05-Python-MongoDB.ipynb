{
 "cells": [
  {
   "cell_type": "markdown",
   "id": "f6a44a2e",
   "metadata": {},
   "source": [
    "## Using Python to Interact with MongoDB\n",
    "This notebook demonstrates basic functioality of MongoDB by way of the **pymongo** library.  As it's name implies, pymongo is the MongoDB library for Python, and its **documnentation** can be found here: https://pymongo.readthedocs.io/en/stable/index.html\n",
    "\n",
    "### 1.0. Prerequisites\n",
    "\n",
    "#### 1.1. First, you must install the *pymongo* libary into your *python* environment by executing the following command in a *Terminal window*\n",
    "- \\$ python3 -m pip install pymongo\n",
    "\n",
    "#### 1.2. Next, as with all Jupyter Notebooks, you need to **Import** the libaries that you'll be working with in the notebook,"
   ]
  },
  {
   "cell_type": "code",
   "execution_count": 1,
   "id": "bc0f64c6",
   "metadata": {},
   "outputs": [],
   "source": [
    "import os\n",
    "import datetime\n",
    "import pymongo\n",
    "import pprint\n",
    "import pandas as pd\n",
    "import matplotlib.pyplot as plt"
   ]
  },
  {
   "cell_type": "markdown",
   "id": "af65c41a",
   "metadata": {},
   "source": [
    "### 2.0. Connecting to the MongoDB Instance"
   ]
  },
  {
   "cell_type": "code",
   "execution_count": 2,
   "id": "2f361d6b",
   "metadata": {},
   "outputs": [],
   "source": [
    "host_name = \"localhost\"\n",
    "port = \"27017\""
   ]
  },
  {
   "cell_type": "code",
   "execution_count": 3,
   "id": "83a0c0e1",
   "metadata": {},
   "outputs": [],
   "source": [
    "conn_str = f\"mongodb://{host_name}:{port}/\"\n",
    "client = pymongo.MongoClient(conn_str)"
   ]
  },
  {
   "cell_type": "markdown",
   "id": "6d41aa3a",
   "metadata": {},
   "source": [
    "### 3.0. Creating Databases, Collections, and Documents\n",
    "MongoDB creates objects lazily. In other words, databases and collections (somewhat equivalent to a table) are only created on the server when the first document (equivalent to a row or record) is inserted."
   ]
  },
  {
   "cell_type": "code",
   "execution_count": 4,
   "id": "0d7e3274",
   "metadata": {},
   "outputs": [
    {
     "data": {
      "text/plain": [
       "['admin', 'config', 'local']"
      ]
     },
     "execution_count": 4,
     "metadata": {},
     "output_type": "execute_result"
    }
   ],
   "source": [
    "db_name = \"blog\"\n",
    "\n",
    "db = client[db_name]\n",
    "client.list_database_names()"
   ]
  },
  {
   "cell_type": "code",
   "execution_count": 5,
   "id": "424a8fff",
   "metadata": {},
   "outputs": [
    {
     "data": {
      "text/plain": [
       "[]"
      ]
     },
     "execution_count": 5,
     "metadata": {},
     "output_type": "execute_result"
    }
   ],
   "source": [
    "db.list_collection_names()"
   ]
  },
  {
   "cell_type": "markdown",
   "id": "68a7240d",
   "metadata": {},
   "source": [
    "Here we see that even though we're referencing a new database named **blog**, it isn't returned when we query the server for the databases it's serving. \n",
    "\n",
    "Now let's create a new collection called **posts** by inserting one new **document** using the **insert_one( )** function.  Notice that the **document** being inserted is structured similarly to a Python **dictionary**.  This is no accident!  Both make use of **JavaScript Object Notation (JSON)**.  If you pay careful attention, you'll notice that a one-to-many relationship has been modeled by *nesting* related entities within a **List**.  Here, the relationship between one **author** and many **tags** has been modeled.  We've also inserted a Python-native **datetime** value into the document. This works because MongoDB is actually based on **Binary JavaScript Object Notation (BSON)**, an interchange format created by the developers of MongoDB.  Like JSON, BSON supports the embedding of documents and arrays within other documents and arrays; however, BSON also contains extensions that allow representation of data types that are not part of the JSON specification.  You can learn more about BSON at: https://bsonspec.org/"
   ]
  },
  {
   "cell_type": "code",
   "execution_count": 6,
   "id": "b6f1de5c",
   "metadata": {},
   "outputs": [
    {
     "name": "stdout",
     "output_type": "stream",
     "text": [
      "Document ID:  6213a7c5537b31971259f618\n"
     ]
    }
   ],
   "source": [
    "post = {\"author\": \"Mike\",\n",
    "        \"text\": \"My first blog post!\",\n",
    "        \"tags\": [\"mongodb\", \"python\", \"pymongo\"],\n",
    "        \"date\": datetime.datetime.utcnow()\n",
    "       }\n",
    "\n",
    "posts = db.posts\n",
    "post_id = posts.insert_one(post).inserted_id\n",
    "\n",
    "print(\"Document ID: \", post_id)"
   ]
  },
  {
   "cell_type": "markdown",
   "id": "2e2526aa",
   "metadata": {},
   "source": [
    "Now when we query the client for lists of the databases & collections on the server we see our new database **blog**, and our new collection **posts**."
   ]
  },
  {
   "cell_type": "code",
   "execution_count": 7,
   "id": "7c6c85d2",
   "metadata": {},
   "outputs": [
    {
     "name": "stdout",
     "output_type": "stream",
     "text": [
      "Databases:  ['admin', 'blog', 'config', 'local']\n",
      "Collections:  ['posts']\n"
     ]
    }
   ],
   "source": [
    "print(\"Databases: \", client.list_database_names())\n",
    "print(\"Collections: \", db.list_collection_names())"
   ]
  },
  {
   "cell_type": "markdown",
   "id": "c955f9a3",
   "metadata": {},
   "source": [
    "### 4.0. Dropping Databases and Collections\n",
    "Of course what can be created can also be destroyed.  Here are the **pymongo** methods for dropping **collections** and **databases**.\n",
    "\n",
    "First, if you drop the last, or only, collection in a database then the entire database will be dropped as well... so first we'll create a second collection named **users** so we can demonstrate the methods for dropping collections and databases."
   ]
  },
  {
   "cell_type": "code",
   "execution_count": 8,
   "id": "c0b24d14",
   "metadata": {},
   "outputs": [
    {
     "name": "stdout",
     "output_type": "stream",
     "text": [
      "User ID:  6213a7c5537b31971259f619\n",
      "Databases:  ['admin', 'blog', 'config', 'local']\n",
      "Collections:  ['posts', 'users']\n"
     ]
    }
   ],
   "source": [
    "user = {\"first_name\" : \"John\",\n",
    "        \"last_name\" : \"Doe\",\n",
    "        \"role\" : \"administrator\"\n",
    "       }\n",
    "\n",
    "users = db.users\n",
    "user_id = users.insert_one(user).inserted_id\n",
    "\n",
    "print(\"User ID: \", user_id)\n",
    "print(\"Databases: \", client.list_database_names())\n",
    "print(\"Collections: \", db.list_collection_names())"
   ]
  },
  {
   "cell_type": "markdown",
   "id": "9a76944d",
   "metadata": {},
   "source": [
    "Here we see that we've created a new **user** and subsequently a new collection **users**.  Now let's go ahead and drop the **posts** collection."
   ]
  },
  {
   "cell_type": "code",
   "execution_count": 9,
   "id": "bb9a481e",
   "metadata": {
    "scrolled": true
   },
   "outputs": [
    {
     "name": "stdout",
     "output_type": "stream",
     "text": [
      "Databases:  ['admin', 'blog', 'config', 'local']\n",
      "Collections:  ['users']\n"
     ]
    }
   ],
   "source": [
    "db.drop_collection(posts)\n",
    "\n",
    "print(\"Databases: \", client.list_database_names())\n",
    "print(\"Collections: \", db.list_collection_names())"
   ]
  },
  {
   "cell_type": "markdown",
   "id": "a2ea561e",
   "metadata": {},
   "source": [
    "So now we just have the **users** collection in the **blog** database. Now let's go ahead and drop the **blog** database."
   ]
  },
  {
   "cell_type": "code",
   "execution_count": 10,
   "id": "63669ca5",
   "metadata": {},
   "outputs": [
    {
     "name": "stdout",
     "output_type": "stream",
     "text": [
      "Return Value:  None\n",
      "Databases:  ['admin', 'config', 'local']\n",
      "Collections:  []\n"
     ]
    }
   ],
   "source": [
    "result = client.drop_database(db_name)\n",
    "\n",
    "print(\"Return Value: \", result)\n",
    "print(\"Databases: \", client.list_database_names())\n",
    "print(\"Collections: \", db.list_collection_names())"
   ]
  },
  {
   "cell_type": "markdown",
   "id": "e6a8f650",
   "metadata": {},
   "source": [
    "### 5.0. Querying MongoDB\n",
    "Of course the next thing we'll be interested in, is to query the **collection**. So, first we'll recreate the **posts** collection so we'll have something to query :)"
   ]
  },
  {
   "cell_type": "code",
   "execution_count": 11,
   "id": "31cf4b1f",
   "metadata": {},
   "outputs": [
    {
     "name": "stdout",
     "output_type": "stream",
     "text": [
      "Document ID:  6213a7c5537b31971259f61a\n",
      "Databases:  ['admin', 'blog', 'config', 'local']\n",
      "Collections:  ['posts']\n"
     ]
    }
   ],
   "source": [
    "post = {\"author\": \"Mike\",\n",
    "        \"text\": \"My first blog post!\",\n",
    "        \"tags\": [\"mongodb\", \"python\", \"pymongo\"],\n",
    "        \"date\": datetime.datetime.utcnow()\n",
    "       }\n",
    "\n",
    "posts = db.posts\n",
    "post_id = posts.insert_one(post).inserted_id\n",
    "\n",
    "print(\"Document ID: \", post_id)\n",
    "print(\"Databases: \", client.list_database_names())\n",
    "print(\"Collections: \", db.list_collection_names())"
   ]
  },
  {
   "cell_type": "markdown",
   "id": "84418579",
   "metadata": {},
   "source": [
    "Here we retrieve the document we just **inserted**. You may notice that we're not really specifying a query, but because there is only one document in the **collection** it will be returned anyway. If there had been no documents in the **collection** then the result would have been **None**.  We're also makine use of the **pprint** (pretty print) library to format our results so they're easily readable."
   ]
  },
  {
   "cell_type": "code",
   "execution_count": 12,
   "id": "63b7375f",
   "metadata": {},
   "outputs": [
    {
     "name": "stdout",
     "output_type": "stream",
     "text": [
      "{'_id': ObjectId('6213a7c5537b31971259f61a'),\n",
      " 'author': 'Mike',\n",
      " 'date': datetime.datetime(2022, 2, 21, 14, 55, 1, 319000),\n",
      " 'tags': ['mongodb', 'python', 'pymongo'],\n",
      " 'text': 'My first blog post!'}\n"
     ]
    }
   ],
   "source": [
    "pprint.pprint(posts.find_one())"
   ]
  },
  {
   "cell_type": "markdown",
   "id": "48543e3f",
   "metadata": {},
   "source": [
    "Of course it's possible to **insert** more than one **document** at a time.  This is achieved by placing the **documents** into a Python **List**, and then passing them to the **insert_many( )** function. What's more, because MongoDB is designed to support *polyschematism* the new documents we insert aren't required to have matching structures (schemas).  Notice that the first document below has no **title** element, and the second document has no **tags** element."
   ]
  },
  {
   "cell_type": "code",
   "execution_count": 13,
   "id": "1342a55c",
   "metadata": {},
   "outputs": [
    {
     "name": "stdout",
     "output_type": "stream",
     "text": [
      "[ObjectId('6213a7c5537b31971259f61b'), ObjectId('6213a7c5537b31971259f61c')]\n"
     ]
    }
   ],
   "source": [
    "new_posts = [{\"author\": \"Mike\",\n",
    "          \"text\": \"Another post!\",\n",
    "          \"tags\": [\"bulk\", \"insert\"],\n",
    "          \"date\": datetime.datetime(2009, 11, 12, 11, 14)\n",
    "         },\n",
    "         {\"author\": \"Eliot\",\n",
    "          \"title\": \"MongoDB is fun\",\n",
    "          \"text\": \"and pretty easy too!\",\n",
    "          \"date\": datetime.datetime(2009, 11, 10, 10, 45)\n",
    "         }]\n",
    "\n",
    "result = posts.insert_many(new_posts)\n",
    "pprint.pprint(result.inserted_ids)"
   ]
  },
  {
   "cell_type": "markdown",
   "id": "fd63906c",
   "metadata": {},
   "source": [
    "Now it's possible to query for specific documents by using JSON **documents** or even simple **key : value** pair notations (which are actually simple JSON documents).  First, using the **find_one( )** method the first occurance that matches the speicfied criterea will be returned. "
   ]
  },
  {
   "cell_type": "code",
   "execution_count": 14,
   "id": "f04fe42a",
   "metadata": {},
   "outputs": [
    {
     "name": "stdout",
     "output_type": "stream",
     "text": [
      "{'_id': ObjectId('6213a7c5537b31971259f61a'),\n",
      " 'author': 'Mike',\n",
      " 'date': datetime.datetime(2022, 2, 21, 14, 55, 1, 319000),\n",
      " 'tags': ['mongodb', 'python', 'pymongo'],\n",
      " 'text': 'My first blog post!'}\n"
     ]
    }
   ],
   "source": [
    "pprint.pprint(posts.find_one( {\"author\" : \"Mike\"} ))"
   ]
  },
  {
   "cell_type": "markdown",
   "id": "e8001e08",
   "metadata": {},
   "source": [
    "It's also possible to iterate over multiple **documents** by way of the **find( )** method, which returns a cursor containing references to multiple documents.  The MongoDB equivalent of the SQL query **SELECT * FROM posts** is achieved by calling the **find( )** function with no argument at all, and he MongoDB equivalent of **SELECT * FROM posts WHERE author = 'Mike'** is achieved by passing the simple JSON document **{\"author\" : \"Mike\"}**."
   ]
  },
  {
   "cell_type": "code",
   "execution_count": 15,
   "id": "3741c6f8",
   "metadata": {},
   "outputs": [
    {
     "name": "stdout",
     "output_type": "stream",
     "text": [
      "{'_id': ObjectId('6213a7c5537b31971259f61a'),\n",
      " 'author': 'Mike',\n",
      " 'date': datetime.datetime(2022, 2, 21, 14, 55, 1, 319000),\n",
      " 'tags': ['mongodb', 'python', 'pymongo'],\n",
      " 'text': 'My first blog post!'}\n",
      "{'_id': ObjectId('6213a7c5537b31971259f61b'),\n",
      " 'author': 'Mike',\n",
      " 'date': datetime.datetime(2009, 11, 12, 11, 14),\n",
      " 'tags': ['bulk', 'insert'],\n",
      " 'text': 'Another post!'}\n",
      "{'_id': ObjectId('6213a7c5537b31971259f61c'),\n",
      " 'author': 'Eliot',\n",
      " 'date': datetime.datetime(2009, 11, 10, 10, 45),\n",
      " 'text': 'and pretty easy too!',\n",
      " 'title': 'MongoDB is fun'}\n"
     ]
    }
   ],
   "source": [
    "for post in posts.find():\n",
    "    pprint.pprint(post)"
   ]
  },
  {
   "cell_type": "code",
   "execution_count": 16,
   "id": "4cdcd4f9",
   "metadata": {},
   "outputs": [
    {
     "name": "stdout",
     "output_type": "stream",
     "text": [
      "{'_id': ObjectId('6213a7c5537b31971259f61a'),\n",
      " 'author': 'Mike',\n",
      " 'date': datetime.datetime(2022, 2, 21, 14, 55, 1, 319000),\n",
      " 'tags': ['mongodb', 'python', 'pymongo'],\n",
      " 'text': 'My first blog post!'}\n",
      "{'_id': ObjectId('6213a7c5537b31971259f61b'),\n",
      " 'author': 'Mike',\n",
      " 'date': datetime.datetime(2009, 11, 12, 11, 14),\n",
      " 'tags': ['bulk', 'insert'],\n",
      " 'text': 'Another post!'}\n"
     ]
    }
   ],
   "source": [
    "for post in posts.find( {\"author\" : \"Mike\"} ):\n",
    "    pprint.pprint(post)"
   ]
  },
  {
   "cell_type": "markdown",
   "id": "6e5dddbe",
   "metadata": {},
   "source": [
    "The number of documents in a collection, or the number of documents that match a set of criterea, can be retrieved using the **count_documents( )** function."
   ]
  },
  {
   "cell_type": "code",
   "execution_count": 17,
   "id": "006789eb",
   "metadata": {},
   "outputs": [
    {
     "name": "stdout",
     "output_type": "stream",
     "text": [
      "All Docs:  3\n",
      "Matching Docs:  1\n"
     ]
    }
   ],
   "source": [
    "print(\"All Docs: \", posts.count_documents( {} ))\n",
    "print(\"Matching Docs: \", posts.count_documents( {\"author\" : \"Eliot\"} ))"
   ]
  },
  {
   "cell_type": "markdown",
   "id": "c2fbfe7f",
   "metadata": {},
   "source": [
    "Many advanced querying techniques can be achieved using MongoDB. For example, the following **range query** retrieves all documents older than *November 12, 2009*, sorted by *author*.  The equivalent SQL query would be **SELECT * FROM posts WHERE date < '2009-11-12:12.0.0:00' ORDER BY author**.\n",
    "\n",
    "Notice here that in order to specify the range **less than**, the special operator **$lt** was used, and that the comparison was nested within curly braces. "
   ]
  },
  {
   "cell_type": "code",
   "execution_count": 18,
   "id": "3b13aeba",
   "metadata": {},
   "outputs": [
    {
     "name": "stdout",
     "output_type": "stream",
     "text": [
      "{'_id': ObjectId('6213a7c5537b31971259f61c'),\n",
      " 'author': 'Eliot',\n",
      " 'date': datetime.datetime(2009, 11, 10, 10, 45),\n",
      " 'text': 'and pretty easy too!',\n",
      " 'title': 'MongoDB is fun'}\n",
      "{'_id': ObjectId('6213a7c5537b31971259f61b'),\n",
      " 'author': 'Mike',\n",
      " 'date': datetime.datetime(2009, 11, 12, 11, 14),\n",
      " 'tags': ['bulk', 'insert'],\n",
      " 'text': 'Another post!'}\n"
     ]
    }
   ],
   "source": [
    "d = datetime.datetime(2009, 11, 12, 12)\n",
    "\n",
    "for post in posts.find({\"date\": {\"$lt\": d}}).sort(\"author\"):\n",
    "    pprint.pprint(post)"
   ]
  },
  {
   "cell_type": "markdown",
   "id": "2c24898c",
   "metadata": {},
   "source": [
    "### 6.0. Indexes, Unique Constraints and Primary Keys\n",
    "\n",
    "Also equivalent to relational database management systems are the use of **indexes** to expedite data retrieval, and to enforce **uniqueness** where desired.  When designing RDBMS tables, it is customary to create a **Primary Key** that uniquely identifies each observation (row).  By default, MongoDB creates an index on the **_id** field, but it may be desireable to enforce uniqueness on user-defined values such as we have seen with **customer_id, employee_id, product_id,** and **shipper_id**. To that affect, the following code creates an *unique* index on the *user_id* element that is sorted in *ascending* order."
   ]
  },
  {
   "cell_type": "code",
   "execution_count": 19,
   "id": "04631499",
   "metadata": {},
   "outputs": [
    {
     "data": {
      "text/plain": [
       "['_id_', 'jedi_id_1']"
      ]
     },
     "execution_count": 19,
     "metadata": {},
     "output_type": "execute_result"
    }
   ],
   "source": [
    "result = db.profiles.create_index([('jedi_id', pymongo.ASCENDING)], unique=True)\n",
    "sorted(list(db.profiles.index_information()))"
   ]
  },
  {
   "cell_type": "markdown",
   "id": "6fdc1701",
   "metadata": {},
   "source": [
    "Now, we can insert some new documents that leverage the new **user_id** unique key index..."
   ]
  },
  {
   "cell_type": "code",
   "execution_count": 20,
   "id": "4e9e2b3e",
   "metadata": {},
   "outputs": [
    {
     "name": "stdout",
     "output_type": "stream",
     "text": [
      "<pymongo.results.InsertManyResult object at 0x0000023BDB0E9400>\n"
     ]
    }
   ],
   "source": [
    "jedi_profiles = [\n",
    "    {'jedi_id': 211, 'name': 'Luke'},\n",
    "    {'jedi_id': 212, 'name': 'Yoda'}]\n",
    "\n",
    "result = db.profiles.insert_many(jedi_profiles)\n",
    "print(result)"
   ]
  },
  {
   "cell_type": "markdown",
   "id": "b9a72c3c",
   "metadata": {},
   "source": [
    "... but if we attempt to insert a record having a preexisting *user_id* then a **Duplicate Key error** will be thrown."
   ]
  },
  {
   "cell_type": "code",
   "execution_count": 21,
   "id": "9aba614b",
   "metadata": {},
   "outputs": [
    {
     "ename": "DuplicateKeyError",
     "evalue": "E11000 duplicate key error collection: blog.profiles index: jedi_id_1 dup key: { jedi_id: 212 }, full error: {'index': 0, 'code': 11000, 'keyPattern': {'jedi_id': 1}, 'keyValue': {'jedi_id': 212}, 'errmsg': 'E11000 duplicate key error collection: blog.profiles index: jedi_id_1 dup key: { jedi_id: 212 }'}",
     "output_type": "error",
     "traceback": [
      "\u001b[1;31m---------------------------------------------------------------------------\u001b[0m",
      "\u001b[1;31mDuplicateKeyError\u001b[0m                         Traceback (most recent call last)",
      "\u001b[1;32m~\\AppData\\Local\\Temp/ipykernel_24020/35817946.py\u001b[0m in \u001b[0;36m<module>\u001b[1;34m\u001b[0m\n\u001b[0;32m      1\u001b[0m \u001b[0msith_profile\u001b[0m \u001b[1;33m=\u001b[0m \u001b[1;33m{\u001b[0m\u001b[1;34m'jedi_id'\u001b[0m\u001b[1;33m:\u001b[0m \u001b[1;36m212\u001b[0m\u001b[1;33m,\u001b[0m \u001b[1;34m'name'\u001b[0m\u001b[1;33m:\u001b[0m \u001b[1;34m'Anakin'\u001b[0m\u001b[1;33m}\u001b[0m\u001b[1;33m\u001b[0m\u001b[1;33m\u001b[0m\u001b[0m\n\u001b[1;32m----> 2\u001b[1;33m \u001b[0mresult\u001b[0m \u001b[1;33m=\u001b[0m \u001b[0mdb\u001b[0m\u001b[1;33m.\u001b[0m\u001b[0mprofiles\u001b[0m\u001b[1;33m.\u001b[0m\u001b[0minsert_one\u001b[0m\u001b[1;33m(\u001b[0m\u001b[0msith_profile\u001b[0m\u001b[1;33m)\u001b[0m\u001b[1;33m\u001b[0m\u001b[1;33m\u001b[0m\u001b[0m\n\u001b[0m",
      "\u001b[1;32m~\\anaconda3\\lib\\site-packages\\pymongo\\collection.py\u001b[0m in \u001b[0;36minsert_one\u001b[1;34m(self, document, bypass_document_validation, session)\u001b[0m\n\u001b[0;32m    522\u001b[0m         \u001b[0mwrite_concern\u001b[0m \u001b[1;33m=\u001b[0m \u001b[0mself\u001b[0m\u001b[1;33m.\u001b[0m\u001b[0m_write_concern_for\u001b[0m\u001b[1;33m(\u001b[0m\u001b[0msession\u001b[0m\u001b[1;33m)\u001b[0m\u001b[1;33m\u001b[0m\u001b[1;33m\u001b[0m\u001b[0m\n\u001b[0;32m    523\u001b[0m         return InsertOneResult(\n\u001b[1;32m--> 524\u001b[1;33m             self._insert_one(\n\u001b[0m\u001b[0;32m    525\u001b[0m                 \u001b[0mdocument\u001b[0m\u001b[1;33m,\u001b[0m \u001b[0mordered\u001b[0m\u001b[1;33m=\u001b[0m\u001b[1;32mTrue\u001b[0m\u001b[1;33m,\u001b[0m \u001b[0mcheck_keys\u001b[0m\u001b[1;33m=\u001b[0m\u001b[1;32mFalse\u001b[0m\u001b[1;33m,\u001b[0m\u001b[1;33m\u001b[0m\u001b[1;33m\u001b[0m\u001b[0m\n\u001b[0;32m    526\u001b[0m                 \u001b[0mwrite_concern\u001b[0m\u001b[1;33m=\u001b[0m\u001b[0mwrite_concern\u001b[0m\u001b[1;33m,\u001b[0m \u001b[0mop_id\u001b[0m\u001b[1;33m=\u001b[0m\u001b[1;32mNone\u001b[0m\u001b[1;33m,\u001b[0m\u001b[1;33m\u001b[0m\u001b[1;33m\u001b[0m\u001b[0m\n",
      "\u001b[1;32m~\\anaconda3\\lib\\site-packages\\pymongo\\collection.py\u001b[0m in \u001b[0;36m_insert_one\u001b[1;34m(self, doc, ordered, check_keys, write_concern, op_id, bypass_doc_val, session)\u001b[0m\n\u001b[0;32m    472\u001b[0m             \u001b[0m_check_write_command_response\u001b[0m\u001b[1;33m(\u001b[0m\u001b[0mresult\u001b[0m\u001b[1;33m)\u001b[0m\u001b[1;33m\u001b[0m\u001b[1;33m\u001b[0m\u001b[0m\n\u001b[0;32m    473\u001b[0m \u001b[1;33m\u001b[0m\u001b[0m\n\u001b[1;32m--> 474\u001b[1;33m         self.__database.client._retryable_write(\n\u001b[0m\u001b[0;32m    475\u001b[0m             acknowledged, _insert_command, session)\n\u001b[0;32m    476\u001b[0m \u001b[1;33m\u001b[0m\u001b[0m\n",
      "\u001b[1;32m~\\anaconda3\\lib\\site-packages\\pymongo\\mongo_client.py\u001b[0m in \u001b[0;36m_retryable_write\u001b[1;34m(self, retryable, func, session)\u001b[0m\n\u001b[0;32m   1338\u001b[0m         \u001b[1;34m\"\"\"Internal retryable write helper.\"\"\"\u001b[0m\u001b[1;33m\u001b[0m\u001b[1;33m\u001b[0m\u001b[0m\n\u001b[0;32m   1339\u001b[0m         \u001b[1;32mwith\u001b[0m \u001b[0mself\u001b[0m\u001b[1;33m.\u001b[0m\u001b[0m_tmp_session\u001b[0m\u001b[1;33m(\u001b[0m\u001b[0msession\u001b[0m\u001b[1;33m)\u001b[0m \u001b[1;32mas\u001b[0m \u001b[0ms\u001b[0m\u001b[1;33m:\u001b[0m\u001b[1;33m\u001b[0m\u001b[1;33m\u001b[0m\u001b[0m\n\u001b[1;32m-> 1340\u001b[1;33m             \u001b[1;32mreturn\u001b[0m \u001b[0mself\u001b[0m\u001b[1;33m.\u001b[0m\u001b[0m_retry_with_session\u001b[0m\u001b[1;33m(\u001b[0m\u001b[0mretryable\u001b[0m\u001b[1;33m,\u001b[0m \u001b[0mfunc\u001b[0m\u001b[1;33m,\u001b[0m \u001b[0ms\u001b[0m\u001b[1;33m,\u001b[0m \u001b[1;32mNone\u001b[0m\u001b[1;33m)\u001b[0m\u001b[1;33m\u001b[0m\u001b[1;33m\u001b[0m\u001b[0m\n\u001b[0m\u001b[0;32m   1341\u001b[0m \u001b[1;33m\u001b[0m\u001b[0m\n\u001b[0;32m   1342\u001b[0m     \u001b[1;32mdef\u001b[0m \u001b[0m__eq__\u001b[0m\u001b[1;33m(\u001b[0m\u001b[0mself\u001b[0m\u001b[1;33m,\u001b[0m \u001b[0mother\u001b[0m\u001b[1;33m)\u001b[0m\u001b[1;33m:\u001b[0m\u001b[1;33m\u001b[0m\u001b[1;33m\u001b[0m\u001b[0m\n",
      "\u001b[1;32m~\\anaconda3\\lib\\site-packages\\pymongo\\mongo_client.py\u001b[0m in \u001b[0;36m_retry_with_session\u001b[1;34m(self, retryable, func, session, bulk)\u001b[0m\n\u001b[0;32m   1227\u001b[0m         retryable = (retryable and self.options.retry_writes\n\u001b[0;32m   1228\u001b[0m                      and session and not session.in_transaction)\n\u001b[1;32m-> 1229\u001b[1;33m         \u001b[1;32mreturn\u001b[0m \u001b[0mself\u001b[0m\u001b[1;33m.\u001b[0m\u001b[0m_retry_internal\u001b[0m\u001b[1;33m(\u001b[0m\u001b[0mretryable\u001b[0m\u001b[1;33m,\u001b[0m \u001b[0mfunc\u001b[0m\u001b[1;33m,\u001b[0m \u001b[0msession\u001b[0m\u001b[1;33m,\u001b[0m \u001b[0mbulk\u001b[0m\u001b[1;33m)\u001b[0m\u001b[1;33m\u001b[0m\u001b[1;33m\u001b[0m\u001b[0m\n\u001b[0m\u001b[0;32m   1230\u001b[0m \u001b[1;33m\u001b[0m\u001b[0m\n\u001b[0;32m   1231\u001b[0m     \u001b[1;32mdef\u001b[0m \u001b[0m_retry_internal\u001b[0m\u001b[1;33m(\u001b[0m\u001b[0mself\u001b[0m\u001b[1;33m,\u001b[0m \u001b[0mretryable\u001b[0m\u001b[1;33m,\u001b[0m \u001b[0mfunc\u001b[0m\u001b[1;33m,\u001b[0m \u001b[0msession\u001b[0m\u001b[1;33m,\u001b[0m \u001b[0mbulk\u001b[0m\u001b[1;33m)\u001b[0m\u001b[1;33m:\u001b[0m\u001b[1;33m\u001b[0m\u001b[1;33m\u001b[0m\u001b[0m\n",
      "\u001b[1;32m~\\anaconda3\\lib\\site-packages\\pymongo\\mongo_client.py\u001b[0m in \u001b[0;36m_retry_internal\u001b[1;34m(self, retryable, func, session, bulk)\u001b[0m\n\u001b[0;32m   1259\u001b[0m                             \u001b[1;32mraise\u001b[0m \u001b[0mlast_error\u001b[0m\u001b[1;33m\u001b[0m\u001b[1;33m\u001b[0m\u001b[0m\n\u001b[0;32m   1260\u001b[0m                         \u001b[0mretryable\u001b[0m \u001b[1;33m=\u001b[0m \u001b[1;32mFalse\u001b[0m\u001b[1;33m\u001b[0m\u001b[1;33m\u001b[0m\u001b[0m\n\u001b[1;32m-> 1261\u001b[1;33m                     \u001b[1;32mreturn\u001b[0m \u001b[0mfunc\u001b[0m\u001b[1;33m(\u001b[0m\u001b[0msession\u001b[0m\u001b[1;33m,\u001b[0m \u001b[0msock_info\u001b[0m\u001b[1;33m,\u001b[0m \u001b[0mretryable\u001b[0m\u001b[1;33m)\u001b[0m\u001b[1;33m\u001b[0m\u001b[1;33m\u001b[0m\u001b[0m\n\u001b[0m\u001b[0;32m   1262\u001b[0m             \u001b[1;32mexcept\u001b[0m \u001b[0mServerSelectionTimeoutError\u001b[0m\u001b[1;33m:\u001b[0m\u001b[1;33m\u001b[0m\u001b[1;33m\u001b[0m\u001b[0m\n\u001b[0;32m   1263\u001b[0m                 \u001b[1;32mif\u001b[0m \u001b[0mis_retrying\u001b[0m\u001b[1;33m(\u001b[0m\u001b[1;33m)\u001b[0m\u001b[1;33m:\u001b[0m\u001b[1;33m\u001b[0m\u001b[1;33m\u001b[0m\u001b[0m\n",
      "\u001b[1;32m~\\anaconda3\\lib\\site-packages\\pymongo\\collection.py\u001b[0m in \u001b[0;36m_insert_command\u001b[1;34m(session, sock_info, retryable_write)\u001b[0m\n\u001b[0;32m    470\u001b[0m                 retryable_write=retryable_write)\n\u001b[0;32m    471\u001b[0m \u001b[1;33m\u001b[0m\u001b[0m\n\u001b[1;32m--> 472\u001b[1;33m             \u001b[0m_check_write_command_response\u001b[0m\u001b[1;33m(\u001b[0m\u001b[0mresult\u001b[0m\u001b[1;33m)\u001b[0m\u001b[1;33m\u001b[0m\u001b[1;33m\u001b[0m\u001b[0m\n\u001b[0m\u001b[0;32m    473\u001b[0m \u001b[1;33m\u001b[0m\u001b[0m\n\u001b[0;32m    474\u001b[0m         self.__database.client._retryable_write(\n",
      "\u001b[1;32m~\\anaconda3\\lib\\site-packages\\pymongo\\helpers.py\u001b[0m in \u001b[0;36m_check_write_command_response\u001b[1;34m(result)\u001b[0m\n\u001b[0;32m    207\u001b[0m     \u001b[0mwrite_errors\u001b[0m \u001b[1;33m=\u001b[0m \u001b[0mresult\u001b[0m\u001b[1;33m.\u001b[0m\u001b[0mget\u001b[0m\u001b[1;33m(\u001b[0m\u001b[1;34m\"writeErrors\"\u001b[0m\u001b[1;33m)\u001b[0m\u001b[1;33m\u001b[0m\u001b[1;33m\u001b[0m\u001b[0m\n\u001b[0;32m    208\u001b[0m     \u001b[1;32mif\u001b[0m \u001b[0mwrite_errors\u001b[0m\u001b[1;33m:\u001b[0m\u001b[1;33m\u001b[0m\u001b[1;33m\u001b[0m\u001b[0m\n\u001b[1;32m--> 209\u001b[1;33m         \u001b[0m_raise_last_write_error\u001b[0m\u001b[1;33m(\u001b[0m\u001b[0mwrite_errors\u001b[0m\u001b[1;33m)\u001b[0m\u001b[1;33m\u001b[0m\u001b[1;33m\u001b[0m\u001b[0m\n\u001b[0m\u001b[0;32m    210\u001b[0m \u001b[1;33m\u001b[0m\u001b[0m\n\u001b[0;32m    211\u001b[0m     \u001b[0mwce\u001b[0m \u001b[1;33m=\u001b[0m \u001b[0m_get_wce_doc\u001b[0m\u001b[1;33m(\u001b[0m\u001b[0mresult\u001b[0m\u001b[1;33m)\u001b[0m\u001b[1;33m\u001b[0m\u001b[1;33m\u001b[0m\u001b[0m\n",
      "\u001b[1;32m~\\anaconda3\\lib\\site-packages\\pymongo\\helpers.py\u001b[0m in \u001b[0;36m_raise_last_write_error\u001b[1;34m(write_errors)\u001b[0m\n\u001b[0;32m    176\u001b[0m     \u001b[0merror\u001b[0m \u001b[1;33m=\u001b[0m \u001b[0mwrite_errors\u001b[0m\u001b[1;33m[\u001b[0m\u001b[1;33m-\u001b[0m\u001b[1;36m1\u001b[0m\u001b[1;33m]\u001b[0m\u001b[1;33m\u001b[0m\u001b[1;33m\u001b[0m\u001b[0m\n\u001b[0;32m    177\u001b[0m     \u001b[1;32mif\u001b[0m \u001b[0merror\u001b[0m\u001b[1;33m.\u001b[0m\u001b[0mget\u001b[0m\u001b[1;33m(\u001b[0m\u001b[1;34m\"code\"\u001b[0m\u001b[1;33m)\u001b[0m \u001b[1;33m==\u001b[0m \u001b[1;36m11000\u001b[0m\u001b[1;33m:\u001b[0m\u001b[1;33m\u001b[0m\u001b[1;33m\u001b[0m\u001b[0m\n\u001b[1;32m--> 178\u001b[1;33m         \u001b[1;32mraise\u001b[0m \u001b[0mDuplicateKeyError\u001b[0m\u001b[1;33m(\u001b[0m\u001b[0merror\u001b[0m\u001b[1;33m.\u001b[0m\u001b[0mget\u001b[0m\u001b[1;33m(\u001b[0m\u001b[1;34m\"errmsg\"\u001b[0m\u001b[1;33m)\u001b[0m\u001b[1;33m,\u001b[0m \u001b[1;36m11000\u001b[0m\u001b[1;33m,\u001b[0m \u001b[0merror\u001b[0m\u001b[1;33m)\u001b[0m\u001b[1;33m\u001b[0m\u001b[1;33m\u001b[0m\u001b[0m\n\u001b[0m\u001b[0;32m    179\u001b[0m     \u001b[1;32mraise\u001b[0m \u001b[0mWriteError\u001b[0m\u001b[1;33m(\u001b[0m\u001b[0merror\u001b[0m\u001b[1;33m.\u001b[0m\u001b[0mget\u001b[0m\u001b[1;33m(\u001b[0m\u001b[1;34m\"errmsg\"\u001b[0m\u001b[1;33m)\u001b[0m\u001b[1;33m,\u001b[0m \u001b[0merror\u001b[0m\u001b[1;33m.\u001b[0m\u001b[0mget\u001b[0m\u001b[1;33m(\u001b[0m\u001b[1;34m\"code\"\u001b[0m\u001b[1;33m)\u001b[0m\u001b[1;33m,\u001b[0m \u001b[0merror\u001b[0m\u001b[1;33m)\u001b[0m\u001b[1;33m\u001b[0m\u001b[1;33m\u001b[0m\u001b[0m\n\u001b[0;32m    180\u001b[0m \u001b[1;33m\u001b[0m\u001b[0m\n",
      "\u001b[1;31mDuplicateKeyError\u001b[0m: E11000 duplicate key error collection: blog.profiles index: jedi_id_1 dup key: { jedi_id: 212 }, full error: {'index': 0, 'code': 11000, 'keyPattern': {'jedi_id': 1}, 'keyValue': {'jedi_id': 212}, 'errmsg': 'E11000 duplicate key error collection: blog.profiles index: jedi_id_1 dup key: { jedi_id: 212 }'}"
     ]
    }
   ],
   "source": [
    "sith_profile = {'jedi_id': 212, 'name': 'Anakin'}\n",
    "result = db.profiles.insert_one(sith_profile)"
   ]
  }
 ],
 "metadata": {
  "kernelspec": {
   "display_name": "Python 3 (ipykernel)",
   "language": "python",
   "name": "python3"
  },
  "language_info": {
   "codemirror_mode": {
    "name": "ipython",
    "version": 3
   },
   "file_extension": ".py",
   "mimetype": "text/x-python",
   "name": "python",
   "nbconvert_exporter": "python",
   "pygments_lexer": "ipython3",
   "version": "3.9.7"
  }
 },
 "nbformat": 4,
 "nbformat_minor": 5
}
